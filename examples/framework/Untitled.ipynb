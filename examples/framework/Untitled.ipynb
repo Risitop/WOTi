{
 "cells": [
  {
   "cell_type": "code",
   "execution_count": 3,
   "id": "db67e9ab",
   "metadata": {},
   "outputs": [],
   "source": [
    "from transmorph.engine import Model\n",
    "from transmorph.engine.layers import (\n",
    "    LayerInput,\n",
    "    LayerOutput,\n",
    "    LayerMatching,\n",
    "    LayerMerging\n",
    ")"
   ]
  },
  {
   "cell_type": "code",
   "execution_count": null,
   "id": "67afb78b",
   "metadata": {},
   "outputs": [],
   "source": []
  }
 ],
 "metadata": {
  "kernelspec": {
   "display_name": "Python 3 (ipykernel)",
   "language": "python",
   "name": "python3"
  },
  "language_info": {
   "codemirror_mode": {
    "name": "ipython",
    "version": 3
   },
   "file_extension": ".py",
   "mimetype": "text/x-python",
   "name": "python",
   "nbconvert_exporter": "python",
   "pygments_lexer": "ipython3",
   "version": "3.9.13"
  }
 },
 "nbformat": 4,
 "nbformat_minor": 5
}
